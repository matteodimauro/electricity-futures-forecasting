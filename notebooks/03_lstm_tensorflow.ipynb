{
 "cells": [
  {
   "cell_type": "markdown",
   "id": "cb8fc97f",
   "metadata": {},
   "source": [
    "# 03 — LSTM Forecasting with TensorFlow/Keras\n",
    "\n",
    "**Goal:** Build an **LSTM** to forecast 1‑step ahead values for the energy proxy series.\n",
    "\n",
    "**You will learn:**\n",
    "- Turning a univariate price series into supervised sequences.\n",
    "- Defining and training a compact LSTM.\n",
    "- Evaluating and visualizing predictions.\n",
    "\n",
    "> On Apple Silicon, if `pip install tensorflow` fails, try `pip install tensorflow-macos`.\n"
   ]
  },
  {
   "cell_type": "markdown",
   "id": "f1f2a8cf",
   "metadata": {},
   "source": [
    "## 0) Setup & Imports"
   ]
  },
  {
   "cell_type": "code",
   "execution_count": null,
   "id": "5d5a288e",
   "metadata": {},
   "outputs": [],
   "source": [
    "# If needed, install (uncomment)\n",
    "# %pip install yfinance pandas numpy matplotlib scikit-learn tensorflow\n",
    "\n",
    "import pandas as pd\n",
    "import numpy as np\n",
    "import matplotlib.pyplot as plt\n",
    "from sklearn.preprocessing import MinMaxScaler\n",
    "from sklearn.metrics import mean_absolute_error, mean_squared_error\n",
    "from math import sqrt\n",
    "import yfinance as yf\n",
    "\n",
    "import tensorflow as tf\n",
    "from tensorflow.keras.models import Sequential\n",
    "from tensorflow.keras.layers import LSTM, Dense\n",
    "from tensorflow.keras.callbacks import EarlyStopping\n",
    "\n",
    "plt.rcParams['figure.figsize'] = (12, 5)\n",
    "plt.rcParams['axes.grid'] = True\n",
    "\n",
    "print(\"TensorFlow:\", tf.__version__)\n"
   ]
  },
  {
   "cell_type": "markdown",
   "id": "2494aa32",
   "metadata": {},
   "source": [
    "## 1) Download data"
   ]
  },
  {
   "cell_type": "code",
   "execution_count": null,
   "id": "12f100f7",
   "metadata": {},
   "outputs": [],
   "source": [
    "TICKER = \"XLE\"\n",
    "df = yf.download(TICKER, start=\"2015-01-01\").reset_index()\n",
    "df = df[[\"Date\", \"Close\"]].dropna().reset_index(drop=True)\n",
    "df.head()\n"
   ]
  },
  {
   "cell_type": "markdown",
   "id": "8287b90c",
   "metadata": {},
   "source": [
    "## 2) Create supervised sequences"
   ]
  },
  {
   "cell_type": "code",
   "execution_count": null,
   "id": "c242fc9b",
   "metadata": {},
   "outputs": [],
   "source": [
    "WINDOW = 30\n",
    "values = df[\"Close\"].values.reshape(-1, 1)\n",
    "\n",
    "scaler = MinMaxScaler()\n",
    "scaled = scaler.fit_transform(values)\n",
    "\n",
    "def make_sequences(series, window):\n",
    "    X, y = [], []\n",
    "    for i in range(len(series) - window):\n",
    "        X.append(series[i:i+window])\n",
    "        y.append(series[i+window])\n",
    "    return np.array(X), np.array(y)\n",
    "\n",
    "X, y = make_sequences(scaled, WINDOW)\n",
    "\n",
    "split = int(len(X) * 0.8)\n",
    "X_train, X_test = X[:split], X[split:]\n",
    "y_train, y_test = y[:split], y[split:]\n",
    "\n",
    "X_train.shape, X_test.shape, y_train.shape, y_test.shape\n"
   ]
  },
  {
   "cell_type": "markdown",
   "id": "68314a41",
   "metadata": {},
   "source": [
    "## 3) Define & train the LSTM"
   ]
  },
  {
   "cell_type": "code",
   "execution_count": null,
   "id": "45c3d670",
   "metadata": {},
   "outputs": [],
   "source": [
    "model = Sequential([\n",
    "    LSTM(64, input_shape=(X_train.shape[1], X_train.shape[2])),\n",
    "    Dense(1)\n",
    "])\n",
    "model.compile(optimizer=\"adam\", loss=\"mse\")\n",
    "model.summary()\n",
    "\n",
    "es = EarlyStopping(monitor=\"val_loss\", patience=10, restore_best_weights=True)\n",
    "\n",
    "history = model.fit(\n",
    "    X_train, y_train,\n",
    "    validation_split=0.2,\n",
    "    epochs=200,\n",
    "    batch_size=32,\n",
    "    callbacks=[es],\n",
    "    verbose=1\n",
    ")\n"
   ]
  },
  {
   "cell_type": "markdown",
   "id": "55490dec",
   "metadata": {},
   "source": [
    "## 4) Evaluate & visualize"
   ]
  },
  {
   "cell_type": "code",
   "execution_count": null,
   "id": "78b02b6d",
   "metadata": {},
   "outputs": [],
   "source": [
    "y_pred = model.predict(X_test)\n",
    "\n",
    "y_test_inv = scaler.inverse_transform(y_test)\n",
    "y_pred_inv = scaler.inverse_transform(y_pred)\n",
    "\n",
    "rmse = sqrt(mean_squared_error(y_test_inv, y_pred_inv))\n",
    "mae = mean_absolute_error(y_test_inv, y_pred_inv)\n",
    "mape = np.mean(np.abs((y_test_inv - y_pred_inv) / y_test_inv)) * 100\n",
    "\n",
    "print(\"LSTM | RMSE:\", rmse, \"MAE:\", mae, \"MAPE%:\", mape)\n",
    "\n",
    "plt.figure()\n",
    "plt.plot(df[\"Date\"].values[-len(y_test_inv):], y_test_inv, label=\"Actual\")\n",
    "plt.plot(df[\"Date\"].values[-len(y_test_inv):], y_pred_inv, label=\"LSTM\")\n",
    "plt.title(\"LSTM Forecast — Actual vs Predicted (Test)\")\n",
    "plt.legend(); plt.show()\n"
   ]
  },
  {
   "cell_type": "markdown",
   "id": "2874ee87",
   "metadata": {},
   "source": [
    "## 5) Next steps"
   ]
  },
  {
   "cell_type": "markdown",
   "id": "1fd5b308",
   "metadata": {},
   "source": [
    "- Try different `WINDOW` sizes and batch sizes.\n",
    "- Add **exogenous features** (e.g., natural gas `NG=F`) as additional input channels.\n",
    "- Perform **walk‑forward retraining** to simulate live operation.\n",
    "- Compare LSTM vs ARIMA vs LightGBM on the same rolling split.\n"
   ]
  }
 ],
 "metadata": {},
 "nbformat": 4,
 "nbformat_minor": 5
}
