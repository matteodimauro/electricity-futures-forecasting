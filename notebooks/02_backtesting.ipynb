{
 "cells": [
  {
   "cell_type": "markdown",
   "id": "612ff82e",
   "metadata": {},
   "source": [
    "# 02 — Rolling Window Backtesting (ARIMA vs LightGBM)\n",
    "\n",
    "**Goal:** Evaluate forecasting models with a **walk‑forward (rolling window) backtest**, which better simulates live trading than a single train/test split.\n",
    "\n",
    "**You will learn:**\n",
    "- Why walk‑forward is crucial in time‑series quant research.\n",
    "- How to implement a rolling evaluation for **ARIMA** and **LightGBM**.\n",
    "- How to summarize and visualize out‑of‑sample performance.\n",
    "\n",
    "> We use `statsmodels` ARIMA for compatibility in Conda environments.\n"
   ]
  },
  {
   "cell_type": "markdown",
   "id": "f4d52c89",
   "metadata": {},
   "source": [
    "## 0) Setup & Imports"
   ]
  },
  {
   "cell_type": "code",
   "execution_count": null,
   "id": "27f4fcde",
   "metadata": {},
   "outputs": [],
   "source": [
    "# If needed, install dependencies (uncomment)\n",
    "# %pip install yfinance pandas numpy matplotlib scikit-learn lightgbm statsmodels\n",
    "\n",
    "import pandas as pd\n",
    "import numpy as np\n",
    "import matplotlib.pyplot as plt\n",
    "from sklearn.metrics import mean_absolute_error, mean_squared_error\n",
    "from math import sqrt\n",
    "\n",
    "import yfinance as yf\n",
    "from statsmodels.tsa.arima.model import ARIMA\n",
    "import lightgbm as lgb\n",
    "\n",
    "plt.rcParams['figure.figsize'] = (12, 5)\n",
    "plt.rcParams['axes.grid'] = True\n"
   ]
  },
  {
   "cell_type": "markdown",
   "id": "b0ca83c3",
   "metadata": {},
   "source": [
    "## 1) Why rolling backtesting?"
   ]
  },
  {
   "cell_type": "markdown",
   "id": "8f50955a",
   "metadata": {},
   "source": [
    "A single train/test split may **overestimate** performance due to leakage or non‑stationarity.\n",
    "**Walk‑forward** works like this:\n",
    "1. Start with an initial training window.\n",
    "2. At time *t*, **train** on data up to *t‑1*, then **predict** *t* (1‑step ahead).\n",
    "3. Slide the window and repeat, collecting errors over time.\n"
   ]
  },
  {
   "cell_type": "markdown",
   "id": "c68cef75",
   "metadata": {},
   "source": [
    "## 2) Download data"
   ]
  },
  {
   "cell_type": "code",
   "execution_count": null,
   "id": "ebcc2434",
   "metadata": {},
   "outputs": [],
   "source": [
    "TICKER = \"XLE\"  # Alternatives: \"VDE\", \"FILL\"\n",
    "df = yf.download(TICKER, start=\"2015-01-01\").reset_index()\n",
    "df = df[[\"Date\", \"Close\"]].dropna().reset_index(drop=True)\n",
    "df.head()\n"
   ]
  },
  {
   "cell_type": "markdown",
   "id": "90e2f18a",
   "metadata": {},
   "source": [
    "## 3) Helpers"
   ]
  },
  {
   "cell_type": "code",
   "execution_count": null,
   "id": "fedaf929",
   "metadata": {},
   "outputs": [],
   "source": [
    "def add_time_features(df, ts_col=\"Date\"):\n",
    "    df = df.copy()\n",
    "    df[ts_col] = pd.to_datetime(df[ts_col])\n",
    "    df[\"year\"] = df[ts_col].dt.year\n",
    "    df[\"month\"] = df[ts_col].dt.month\n",
    "    df[\"dayofweek\"] = df[ts_col].dt.dayofweek\n",
    "    return df\n",
    "\n",
    "def make_lags(df, y_col=\"Close\", lags=(1,5,22)):\n",
    "    df = df.copy()\n",
    "    for L in lags:\n",
    "        df[f\"lag_{L}\"] = df[y_col].shift(L)\n",
    "    return df\n",
    "\n",
    "def rmse(y_true, y_pred):\n",
    "    return sqrt(((y_true - y_pred) ** 2).mean())\n",
    "\n",
    "def mape(y_true, y_pred):\n",
    "    return np.mean(np.abs((y_true - y_pred) / y_true)) * 100.0\n"
   ]
  },
  {
   "cell_type": "markdown",
   "id": "abe665ab",
   "metadata": {},
   "source": [
    "## 4) Feature engineering"
   ]
  },
  {
   "cell_type": "code",
   "execution_count": null,
   "id": "1dc3dbee",
   "metadata": {},
   "outputs": [],
   "source": [
    "df_feat = add_time_features(df, \"Date\")\n",
    "df_feat = make_lags(df_feat, \"Close\", lags=(1,5,22))\n",
    "df_feat = df_feat.dropna().reset_index(drop=True)\n",
    "\n",
    "feature_cols = [c for c in df_feat.columns if c.startswith(\"lag_\")] + [\"month\",\"dayofweek\",\"year\"]\n",
    "df_feat.head()\n"
   ]
  },
  {
   "cell_type": "markdown",
   "id": "d22e0c83",
   "metadata": {},
   "source": [
    "## 5) Rolling split logic"
   ]
  },
  {
   "cell_type": "code",
   "execution_count": null,
   "id": "404ed815",
   "metadata": {},
   "outputs": [],
   "source": [
    "N = len(df_feat)\n",
    "test_frac = 0.2\n",
    "start_test = int(N * (1 - test_frac))\n",
    "print(\"Total:\", N, \"| Rolling eval starts at index:\", start_test)\n"
   ]
  },
  {
   "cell_type": "markdown",
   "id": "3a3f4c9a",
   "metadata": {},
   "source": [
    "## 6) ARIMA order selection (tiny grid)"
   ]
  },
  {
   "cell_type": "code",
   "execution_count": null,
   "id": "5cab3abf",
   "metadata": {},
   "outputs": [],
   "source": [
    "CANDIDATE_ORDERS = [(1,0,0), (1,1,0), (2,1,0), (1,1,1), (3,1,1), (5,1,0)]\n",
    "\n",
    "def fit_best_arima(y_train):\n",
    "    best_aic = np.inf\n",
    "    best_model = None\n",
    "    best_order = None\n",
    "    for order in CANDIDATE_ORDERS:\n",
    "        try:\n",
    "            res = ARIMA(y_train, order=order).fit()\n",
    "            if res.aic < best_aic:\n",
    "                best_aic = res.aic\n",
    "                best_model = res\n",
    "                best_order = order\n",
    "        except Exception:\n",
    "            continue\n",
    "    return best_model, best_order, best_aic\n"
   ]
  },
  {
   "cell_type": "markdown",
   "id": "0d39fb0e",
   "metadata": {},
   "source": [
    "## 7) Walk‑forward loop"
   ]
  },
  {
   "cell_type": "code",
   "execution_count": null,
   "id": "0a228b4a",
   "metadata": {},
   "outputs": [],
   "source": [
    "y = df_feat[\"Close\"].values\n",
    "dates = df_feat[\"Date\"].values\n",
    "X_all = df_feat[feature_cols].values\n",
    "\n",
    "arima_preds, lgbm_preds, actuals, pred_dates = [], [], [], []\n",
    "\n",
    "for t in range(start_test, len(df_feat)):\n",
    "    y_train = y[:t]\n",
    "    X_train = X_all[:t]\n",
    "    y_true = y[t]\n",
    "    x_row = X_all[t].reshape(1, -1)\n",
    "\n",
    "    pred_dates.append(dates[t])\n",
    "    actuals.append(y_true)\n",
    "\n",
    "    # ARIMA\n",
    "    arima_model, order, aic = fit_best_arima(y_train)\n",
    "    if arima_model:\n",
    "        arima_fc = arima_model.forecast(steps=1)[0]\n",
    "    else:\n",
    "        arima_fc = y_train[-1]  # naive fallback\n",
    "    arima_preds.append(arima_fc)\n",
    "\n",
    "    # LightGBM\n",
    "    lgbm = lgb.LGBMRegressor(\n",
    "        n_estimators=600, learning_rate=0.02,\n",
    "        subsample=0.9, colsample_bytree=0.9, random_state=42\n",
    "    )\n",
    "    lgbm.fit(X_train, y_train)\n",
    "    lgb_fc = lgbm.predict(x_row)[0]\n",
    "    lgbm_preds.append(lgb_fc)\n",
    "\n",
    "len(actuals), len(arima_preds), len(lgbm_preds)\n"
   ]
  },
  {
   "cell_type": "markdown",
   "id": "13308f39",
   "metadata": {},
   "source": [
    "## 8) Metrics & plots"
   ]
  },
  {
   "cell_type": "code",
   "execution_count": null,
   "id": "f8a2f2b9",
   "metadata": {},
   "outputs": [],
   "source": [
    "actuals = np.array(actuals)\n",
    "arima_preds = np.array(arima_preds)\n",
    "lgbm_preds = np.array(lgbm_preds)\n",
    "\n",
    "print(\"ARIMA  | RMSE:\", rmse(actuals, arima_preds), \"MAE:\", mean_absolute_error(actuals, arima_preds), \"MAPE%:\", mape(actuals, arima_preds))\n",
    "print(\"LGBM   | RMSE:\", rmse(actuals, lgbm_preds), \"MAE:\", mean_absolute_error(actuals, lgbm_preds), \"MAPE%:\", mape(actuals, lgbm_preds))\n",
    "\n",
    "plt.figure()\n",
    "plt.plot(pred_dates, actuals, label=\"Actual\")\n",
    "plt.plot(pred_dates, arima_preds, label=\"ARIMA\")\n",
    "plt.plot(pred_dates, lgbm_preds, label=\"LightGBM\")\n",
    "plt.title(\"Walk-forward — Actual vs Predictions\"); plt.legend(); plt.show()\n",
    "\n",
    "plt.figure()\n",
    "plt.plot(pred_dates, np.abs(actuals - arima_preds), label=\"|Error| ARIMA\")\n",
    "plt.plot(pred_dates, np.abs(actuals - lgbm_preds), label=\"|Error| LGBM\")\n",
    "plt.title(\"Absolute Error over time\"); plt.legend(); plt.show()\n"
   ]
  }
 ],
 "metadata": {},
 "nbformat": 4,
 "nbformat_minor": 5
}
