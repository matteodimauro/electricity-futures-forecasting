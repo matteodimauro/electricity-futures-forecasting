{
 "cells": [
  {
   "cell_type": "markdown",
   "id": "a1307331",
   "metadata": {},
   "source": [
    "# 01 — MVP Forecasting with Yahoo Finance Data\n",
    "\n",
    "**Goal:** Build a **minimum viable forecasting pipeline** with:\n",
    "- Data from Yahoo Finance (proxy for electricity futures, e.g., ETF `XLE`)\n",
    "- Baseline ARIMA model\n",
    "- Machine Learning model (LightGBM)\n",
    "- Metrics & visual comparison\n",
    "\n",
    "**Why this matters for hedge funds:**\n",
    "- Demonstrates ability to structure time series forecasting projects\n",
    "- Shows competence in classical + ML approaches\n",
    "- Provides a baseline for extension with real energy data (ENTSO‑E, EEX, etc.)\n"
   ]
  },
  {
   "cell_type": "markdown",
   "id": "dd44528e",
   "metadata": {},
   "source": [
    "## 0) Setup & Imports"
   ]
  },
  {
   "cell_type": "code",
   "execution_count": null,
   "id": "73b5bea4",
   "metadata": {},
   "outputs": [],
   "source": [
    "# Install dependencies (with fixed compatible versions)\n",
    "# %pip install numpy==1.26.4 scipy==1.13.1 scikit-learn==1.5.1 pmdarima==2.0.4 lightgbm yfinance matplotlib\n",
    "\n",
    "import pandas as pd\n",
    "import numpy as np\n",
    "import matplotlib.pyplot as plt\n",
    "from math import sqrt\n",
    "from sklearn.metrics import mean_absolute_error, mean_squared_error\n",
    "import yfinance as yf\n",
    "\n",
    "from pmdarima import auto_arima\n",
    "import lightgbm as lgb\n",
    "\n",
    "plt.rcParams['figure.figsize'] = (12,5)\n",
    "plt.rcParams['axes.grid'] = True\n"
   ]
  },
  {
   "cell_type": "markdown",
   "id": "37b0bf80",
   "metadata": {},
   "source": [
    "## 1) Helper functions"
   ]
  },
  {
   "cell_type": "code",
   "execution_count": null,
   "id": "e7aac3c5",
   "metadata": {},
   "outputs": [],
   "source": [
    "def add_time_features(df, ts_col=\"Date\"):\n",
    "    df = df.copy()\n",
    "    df[ts_col] = pd.to_datetime(df[ts_col])\n",
    "    df[\"year\"] = df[ts_col].dt.year\n",
    "    df[\"month\"] = df[ts_col].dt.month\n",
    "    df[\"dayofweek\"] = df[ts_col].dt.dayofweek\n",
    "    return df\n",
    "\n",
    "def make_lags(df, y_col=\"Close\", lags=(1,5,22)):\n",
    "    df = df.copy()\n",
    "    for L in lags:\n",
    "        df[f\"lag_{L}\"] = df[y_col].shift(L)\n",
    "    return df\n",
    "\n",
    "def ts_train_test_split(df, test_size=0.2):\n",
    "    n = len(df)\n",
    "    split = int(n*(1-test_size))\n",
    "    return df.iloc[:split].copy(), df.iloc[split:].copy()\n",
    "\n",
    "def metrics(y_true, y_pred):\n",
    "    mae = mean_absolute_error(y_true, y_pred)\n",
    "    rmse = sqrt(mean_squared_error(y_true, y_pred))\n",
    "    mape = np.mean(np.abs((y_true - y_pred) / y_true)) * 100\n",
    "    return {\"MAE\": mae, \"RMSE\": rmse, \"MAPE%\": mape}\n"
   ]
  },
  {
   "cell_type": "markdown",
   "id": "f3ce2f73",
   "metadata": {},
   "source": [
    "## 2) Download data from Yahoo Finance"
   ]
  },
  {
   "cell_type": "code",
   "execution_count": null,
   "id": "013b8d89",
   "metadata": {},
   "outputs": [],
   "source": [
    "TICKER = \"XLE\"  # Proxy energy ETF\n",
    "df = yf.download(TICKER, start=\"2015-01-01\").reset_index()\n",
    "df = df[[\"Date\", \"Close\"]].dropna().reset_index(drop=True)\n",
    "df.head()\n"
   ]
  },
  {
   "cell_type": "markdown",
   "id": "169874dc",
   "metadata": {},
   "source": [
    "## 3) Quick EDA"
   ]
  },
  {
   "cell_type": "code",
   "execution_count": null,
   "id": "f2334caf",
   "metadata": {},
   "outputs": [],
   "source": [
    "ax = df.plot(x=\"Date\", y=\"Close\", title=f\"{TICKER} Close Price\")\n",
    "ax.set_xlabel(\"Date\"); ax.set_ylabel(\"Price\")\n",
    "plt.show()\n",
    "\n",
    "df.describe().T\n"
   ]
  },
  {
   "cell_type": "markdown",
   "id": "f4cdb64d",
   "metadata": {},
   "source": [
    "## 4) Feature engineering"
   ]
  },
  {
   "cell_type": "code",
   "execution_count": null,
   "id": "80a165a4",
   "metadata": {},
   "outputs": [],
   "source": [
    "df_feat = add_time_features(df, ts_col=\"Date\")\n",
    "df_feat = make_lags(df_feat, y_col=\"Close\", lags=(1,5,22))\n",
    "df_feat = df_feat.dropna().reset_index(drop=True)\n",
    "\n",
    "train, test = ts_train_test_split(df_feat, test_size=0.2)\n",
    "y_tr, y_te = train[\"Close\"].values, test[\"Close\"].values\n",
    "\n",
    "feature_cols = [c for c in df_feat.columns if c.startswith(\"lag_\")] + [\"month\",\"dayofweek\",\"year\"]\n",
    "X_tr, X_te = train[feature_cols], test[feature_cols]\n"
   ]
  },
  {
   "cell_type": "markdown",
   "id": "472a7a76",
   "metadata": {},
   "source": [
    "## 5) Baseline ARIMA"
   ]
  },
  {
   "cell_type": "code",
   "execution_count": null,
   "id": "ee9aaddf",
   "metadata": {},
   "outputs": [],
   "source": [
    "arima = auto_arima(y_tr, seasonal=False, suppress_warnings=True)\n",
    "arima_fc = arima.predict(n_periods=len(test))\n",
    "\n",
    "m_arima = metrics(y_te, arima_fc)\n",
    "print(\"ARIMA metrics:\", m_arima)\n",
    "\n",
    "plt.figure()\n",
    "plt.plot(test[\"Date\"], y_te, label=\"Actual\")\n",
    "plt.plot(test[\"Date\"], arima_fc, label=\"ARIMA\")\n",
    "plt.legend(); plt.title(f\"ARIMA vs Actual — {TICKER}\"); plt.show()\n"
   ]
  },
  {
   "cell_type": "markdown",
   "id": "766cfa4d",
   "metadata": {},
   "source": [
    "## 6) Machine Learning with LightGBM"
   ]
  },
  {
   "cell_type": "code",
   "execution_count": null,
   "id": "2d81c31f",
   "metadata": {},
   "outputs": [],
   "source": [
    "lgbm = lgb.LGBMRegressor(\n",
    "    n_estimators=800, learning_rate=0.02,\n",
    "    subsample=0.9, colsample_bytree=0.9,\n",
    "    random_state=42\n",
    ")\n",
    "lgbm.fit(X_tr, y_tr)\n",
    "lgbm_fc = lgbm.predict(X_te)\n",
    "\n",
    "m_lgbm = metrics(y_te, lgbm_fc)\n",
    "print(\"LightGBM metrics:\", m_lgbm)\n",
    "\n",
    "plt.figure()\n",
    "plt.plot(test[\"Date\"], y_te, label=\"Actual\")\n",
    "plt.plot(test[\"Date\"], lgbm_fc, label=\"LightGBM\")\n",
    "plt.legend(); plt.title(f\"LightGBM vs Actual — {TICKER}\"); plt.show()\n"
   ]
  },
  {
   "cell_type": "markdown",
   "id": "ed4addf7",
   "metadata": {},
   "source": [
    "## 7) Compare ARIMA vs LightGBM"
   ]
  },
  {
   "cell_type": "code",
   "execution_count": null,
   "id": "b3e0dd02",
   "metadata": {},
   "outputs": [],
   "source": [
    "plt.figure()\n",
    "plt.plot(test[\"Date\"], y_te, label=\"Actual\")\n",
    "plt.plot(test[\"Date\"], arima_fc, label=\"ARIMA\")\n",
    "plt.plot(test[\"Date\"], lgbm_fc, label=\"LightGBM\")\n",
    "plt.legend(); plt.title(f\"Forecast Comparison — {TICKER}\")\n",
    "plt.show()\n",
    "\n",
    "print(\"ARIMA:\", m_arima)\n",
    "print(\"LightGBM:\", m_lgbm)\n"
   ]
  },
  {
   "cell_type": "markdown",
   "id": "1508f0ab",
   "metadata": {},
   "source": [
    "## 8) Next steps"
   ]
  },
  {
   "cell_type": "markdown",
   "id": "6bb3b1ae",
   "metadata": {},
   "source": [
    "- Add **exogenous variables** (e.g., natural gas `NG=F`, weather).\n",
    "- Implement **walk‑forward** validation (see notebook 02).\n",
    "- Hyperparameter tuning (Optuna/Bayesian search).\n",
    "- Add LSTM comparison (see notebook 03).\n"
   ]
  }
 ],
 "metadata": {},
 "nbformat": 4,
 "nbformat_minor": 5
}
