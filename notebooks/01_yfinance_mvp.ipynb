{
 "cells": [
  {
   "cell_type": "markdown",
   "id": "a1307331",
   "metadata": {},
   "source": [
    "# 01 — MVP Forecasting with Yahoo Finance Data\n",
    "\n",
    "**Goal:** Build a **Minimum Viable Product Forecasting pipeline** with:\n",
    "- Data from Yahoo Finance (proxy for electricity futures, e.g., ETF `XLE`)\n",
    "- Baseline ARIMA model\n",
    "- Machine Learning model (LightGBM)\n",
    "- Metrics & visual comparison\n",
    "\n",
    "**Why this matters for hedge funds:**\n",
    "- Demonstrates ability to structure time series forecasting projects\n",
    "- Shows competence in classical + ML approaches\n",
    "- Provides a baseline for extension with real energy data (ENTSO‑E, EEX, etc.)\n"
   ]
  },
  {
   "cell_type": "markdown",
   "id": "dd44528e",
   "metadata": {},
   "source": [
    "## 0) Setup & Imports\n",
    "- Import core libraries (`pandas`, `numpy`, `matplotlib`).\n",
    "- Load `yfinance` (for data), `pmdarima` (ARIMA), and `lightgbm` (ML model).\n",
    "\n",
    "**Why:**  \n",
    "We need data access + modeling libraries.  \n",
    "ARIMA = statistical baseline, LightGBM = machine learning baseline.\n"
   ]
  },
  {
   "cell_type": "code",
   "execution_count": 2,
   "id": "73b5bea4",
   "metadata": {},
   "outputs": [],
   "source": [
    "# Install dependencies (with fixed compatible versions)\n",
    "# %pip install numpy==1.26.4 scipy==1.13.1 scikit-learn==1.5.1 pmdarima==2.0.4 lightgbm yfinance matplotlib\n",
    "import pandas as pd\n",
    "import numpy as np\n",
    "import matplotlib.pyplot as plt\n",
    "from math import sqrt\n",
    "from sklearn.metrics import mean_absolute_error, mean_squared_error\n",
    "import yfinance as yf\n",
    "import os\n",
    "\n",
    "from pmdarima import auto_arima\n",
    "import lightgbm as lgb\n",
    "\n",
    "plt.rcParams['figure.figsize'] = (12,5)\n",
    "plt.rcParams['axes.grid'] = True"
   ]
  },
  {
   "cell_type": "markdown",
   "id": "37b0bf80",
   "metadata": {},
   "source": [
    "## 1) Helper functions"
   ]
  },
  {
   "cell_type": "code",
   "execution_count": 3,
   "id": "e7aac3c5",
   "metadata": {},
   "outputs": [],
   "source": [
    "def add_time_features(df, ts_col=\"Date\"):\n",
    "    df = df.copy()\n",
    "    df[ts_col] = pd.to_datetime(df[ts_col])\n",
    "    df[\"year\"] = df[ts_col].dt.year\n",
    "    df[\"month\"] = df[ts_col].dt.month\n",
    "    df[\"dayofweek\"] = df[ts_col].dt.dayofweek\n",
    "    return df\n",
    "\n",
    "def make_lags(df, y_col=\"Close\", lags=(1,5,22)):\n",
    "    df = df.copy()\n",
    "    for L in lags:\n",
    "        df[f\"lag_{L}\"] = df[y_col].shift(L)\n",
    "    return df\n",
    "\n",
    "def ts_train_test_split(df, test_size=0.2):\n",
    "    n = len(df)\n",
    "    split = int(n*(1-test_size))\n",
    "    return df.iloc[:split].copy(), df.iloc[split:].copy()\n",
    "\n",
    "def metrics(y_true, y_pred):\n",
    "    mae = mean_absolute_error(y_true, y_pred)\n",
    "    rmse = sqrt(mean_squared_error(y_true, y_pred))\n",
    "    mape = np.mean(np.abs((y_true - y_pred) / y_true)) * 100\n",
    "    return {\"MAE\": mae, \"RMSE\": rmse, \"MAPE%\": mape}\n"
   ]
  },
  {
   "cell_type": "markdown",
   "id": "df0a3e4a",
   "metadata": {},
   "source": [
    "- `add_time_features`: adds calendar features (year, month, day of week) extracting them from the date column.  \n",
    "- `make_lags`: creates lagged variables (yesterday’s price, last week’s price, last trading month's price). For each lag a new column is created \n",
    "- `ts_train_test_split`: splits the dataset chronologically (train/test).  \n",
    "- `metrics`: computes MAE, RMSE, and MAPE for evaluation.  \n",
    "\n",
    "**Why:**  \n",
    "- Time features capture seasonality/trends.  \n",
    "- Lag features let ML models “see” the past.  \n",
    "- Train/test split ensures no leakage from future → past.  \n",
    "- Metrics allow comparison between models."
   ]
  },
  {
   "cell_type": "markdown",
   "id": "f3ce2f73",
   "metadata": {},
   "source": [
    "## 2) Download data from Yahoo Finance"
   ]
  },
  {
   "cell_type": "code",
   "execution_count": 4,
   "id": "013b8d89",
   "metadata": {},
   "outputs": [
    {
     "name": "stderr",
     "output_type": "stream",
     "text": [
      "[*********************100%***********************]  1 of 1 completed"
     ]
    },
    {
     "name": "stdout",
     "output_type": "stream",
     "text": [
      "Sample dataset saved in data/xle_sample.csv\n"
     ]
    },
    {
     "name": "stderr",
     "output_type": "stream",
     "text": [
      "\n"
     ]
    },
    {
     "data": {
      "text/html": [
       "<div>\n",
       "<style scoped>\n",
       "    .dataframe tbody tr th:only-of-type {\n",
       "        vertical-align: middle;\n",
       "    }\n",
       "\n",
       "    .dataframe tbody tr th {\n",
       "        vertical-align: top;\n",
       "    }\n",
       "\n",
       "    .dataframe thead tr th {\n",
       "        text-align: left;\n",
       "    }\n",
       "</style>\n",
       "<table border=\"1\" class=\"dataframe\">\n",
       "  <thead>\n",
       "    <tr>\n",
       "      <th>Price</th>\n",
       "      <th>Date</th>\n",
       "      <th>Close</th>\n",
       "    </tr>\n",
       "    <tr>\n",
       "      <th>Ticker</th>\n",
       "      <th></th>\n",
       "      <th>XLE</th>\n",
       "    </tr>\n",
       "  </thead>\n",
       "  <tbody>\n",
       "    <tr>\n",
       "      <th>0</th>\n",
       "      <td>2015-01-02</td>\n",
       "      <td>52.310986</td>\n",
       "    </tr>\n",
       "    <tr>\n",
       "      <th>1</th>\n",
       "      <td>2015-01-05</td>\n",
       "      <td>50.147003</td>\n",
       "    </tr>\n",
       "    <tr>\n",
       "      <th>2</th>\n",
       "      <td>2015-01-06</td>\n",
       "      <td>49.410324</td>\n",
       "    </tr>\n",
       "    <tr>\n",
       "      <th>3</th>\n",
       "      <td>2015-01-07</td>\n",
       "      <td>49.515549</td>\n",
       "    </tr>\n",
       "    <tr>\n",
       "      <th>4</th>\n",
       "      <td>2015-01-08</td>\n",
       "      <td>50.627159</td>\n",
       "    </tr>\n",
       "  </tbody>\n",
       "</table>\n",
       "</div>"
      ],
      "text/plain": [
       "Price        Date      Close\n",
       "Ticker                   XLE\n",
       "0      2015-01-02  52.310986\n",
       "1      2015-01-05  50.147003\n",
       "2      2015-01-06  49.410324\n",
       "3      2015-01-07  49.515549\n",
       "4      2015-01-08  50.627159"
      ]
     },
     "execution_count": 4,
     "metadata": {},
     "output_type": "execute_result"
    }
   ],
   "source": [
    "TICKER = \"XLE\"  # Proxy energy ETF\n",
    "df = yf.download(TICKER, start=\"2015-01-01\", auto_adjust=True).reset_index()\n",
    "df = df[[\"Date\", \"Close\"]].dropna().reset_index(drop=True)\n",
    "\n",
    "\n",
    "# Make sure the folder exists\n",
    "os.makedirs(\"../data\", exist_ok=True)\n",
    "\n",
    "# Take the last 1 year of data as sample\n",
    "sample = df[df[\"Date\"] >= (df[\"Date\"].max() - pd.Timedelta(days=365))]\n",
    "\n",
    "# Save to CSV\n",
    "sample.to_csv(\"../data/xle_sample.csv\")\n",
    "\n",
    "print(\"Sample dataset saved in data/xle_sample.csv\")\n",
    "df.head()"
   ]
  },
  {
   "cell_type": "markdown",
   "id": "88cf5332",
   "metadata": {},
   "source": [
    "- Download **XLE ETF** data from Yahoo Finance (`2015 → today`).  \n",
    "- Keep only `Date` and `Close` columns.\n",
    "\n",
    "**Why:**  \n",
    "- XLE is a **proxy for energy markets** (public, free, reproducible).  \n",
    "- Using ETF data is a quick MVP before switching to real electricity futures data.\n"
   ]
  },
  {
   "cell_type": "markdown",
   "id": "169874dc",
   "metadata": {},
   "source": [
    "## 3) Quick EDA"
   ]
  },
  {
   "cell_type": "code",
   "execution_count": 5,
   "id": "f2334caf",
   "metadata": {},
   "outputs": [
    {
     "data": {
      "image/png": "[encoded data removed]",
      "text/plain": [
       "<Figure size 1200x500 with 1 Axes>"
      ]
     },
     "metadata": {},
     "output_type": "display_data"
    },
    {
     "data": {
      "text/html": [
       "<div>\n",
       "<style scoped>\n",
       "    .dataframe tbody tr th:only-of-type {\n",
       "        vertical-align: middle;\n",
       "    }\n",
       "\n",
       "    .dataframe tbody tr th {\n",
       "        vertical-align: top;\n",
       "    }\n",
       "\n",
       "    .dataframe thead th {\n",
       "        text-align: right;\n",
       "    }\n",
       "</style>\n",
       "<table border=\"1\" class=\"dataframe\">\n",
       "  <thead>\n",
       "    <tr style=\"text-align: right;\">\n",
       "      <th></th>\n",
       "      <th></th>\n",
       "      <th>count</th>\n",
       "      <th>mean</th>\n",
       "      <th>min</th>\n",
       "      <th>25%</th>\n",
       "      <th>50%</th>\n",
       "      <th>75%</th>\n",
       "      <th>max</th>\n",
       "      <th>std</th>\n",
       "    </tr>\n",
       "    <tr>\n",
       "      <th>Price</th>\n",
       "      <th>Ticker</th>\n",
       "      <th></th>\n",
       "      <th></th>\n",
       "      <th></th>\n",
       "      <th></th>\n",
       "      <th></th>\n",
       "      <th></th>\n",
       "      <th></th>\n",
       "      <th></th>\n",
       "    </tr>\n",
       "  </thead>\n",
       "  <tbody>\n",
       "    <tr>\n",
       "      <th>Date</th>\n",
       "      <th></th>\n",
       "      <td>2673</td>\n",
       "      <td>2020-04-23 22:45:39.393939456</td>\n",
       "      <td>2015-01-02 00:00:00</td>\n",
       "      <td>2017-08-28 00:00:00</td>\n",
       "      <td>2020-04-24 00:00:00</td>\n",
       "      <td>2022-12-16 00:00:00</td>\n",
       "      <td>2025-08-19 00:00:00</td>\n",
       "      <td>NaN</td>\n",
       "    </tr>\n",
       "    <tr>\n",
       "      <th>Close</th>\n",
       "      <th>XLE</th>\n",
       "      <td>2673.0</td>\n",
       "      <td>56.926769</td>\n",
       "      <td>18.930193</td>\n",
       "      <td>45.315216</td>\n",
       "      <td>49.541851</td>\n",
       "      <td>75.787178</td>\n",
       "      <td>94.941917</td>\n",
       "      <td>18.307162</td>\n",
       "    </tr>\n",
       "  </tbody>\n",
       "</table>\n",
       "</div>"
      ],
      "text/plain": [
       "               count                           mean                  min  \\\n",
       "Price Ticker                                                               \n",
       "Date            2673  2020-04-23 22:45:39.393939456  2015-01-02 00:00:00   \n",
       "Close XLE     2673.0                      56.926769            18.930193   \n",
       "\n",
       "                              25%                  50%                  75%  \\\n",
       "Price Ticker                                                                  \n",
       "Date          2017-08-28 00:00:00  2020-04-24 00:00:00  2022-12-16 00:00:00   \n",
       "Close XLE               45.315216            49.541851            75.787178   \n",
       "\n",
       "                              max        std  \n",
       "Price Ticker                                  \n",
       "Date          2025-08-19 00:00:00        NaN  \n",
       "Close XLE               94.941917  18.307162  "
      ]
     },
     "execution_count": 5,
     "metadata": {},
     "output_type": "execute_result"
    }
   ],
   "source": [
    "ax = df.plot(x=\"Date\", y=\"Close\", title=f\"{TICKER} Close Price\")\n",
    "ax.set_xlabel(\"Date\"); ax.set_ylabel(\"Price\")\n",
    "plt.show()\n",
    "\n",
    "df.describe().T\n"
   ]
  },
  {
   "cell_type": "markdown",
   "id": "6c41b75a",
   "metadata": {},
   "source": [
    "- Plot the closing price series.  \n",
    "- Display summary statistics (mean, std, min, max).  \n",
    "\n",
    "**Why:**  \n",
    "- Visualization shows trends, seasonality, volatility.  \n",
    "- Summary stats give a sense of distribution and scale.\n",
    "\n",
    "## Interpreting the Summary Statistics\n",
    "\n",
    "We plotted the historical **closing prices** of the XLE ETF and displayed its **summary statistics**.  \n",
    "Here’s how to read and interpret them:\n",
    "\n",
    "---\n",
    "\n",
    "### 1. Date Column\n",
    "- **min = 2015-01-02** → start of dataset.  \n",
    "- **max = 2025-08-19** → end of dataset.  \n",
    "- **count = 2673** → number of observations (≈ 10.5 years of trading days).  \n",
    "- **mean date = 2020-04-23** → midpoint in the time span.  \n",
    "\n",
    "This confirms we are working with ~10 years of **daily trading data** (only trading days, weekends/holidays excluded).\n",
    "\n",
    "---\n",
    "\n",
    "### 2. Close Price Column\n",
    "- **count = 2673** → number of daily prices.  \n",
    "- **mean = 56.93 USD** → average price over the whole period.  \n",
    "- **min = 18.93 USD** → lowest price (COVID crash in 2020).  \n",
    "- **25% = 45.31 USD** → lower quartile (25% of prices are below this).  \n",
    "- **50% = 49.54 USD** → median (half the time below, half above).  \n",
    "- **75% = 75.78 USD** → upper quartile.  \n",
    "- **max = 94.94 USD** → highest price (energy boom in 2022–2023).  \n",
    "- **std = 18.31** → standard deviation, showing high volatility.\n",
    "\n",
    "---\n",
    "\n",
    "### 3. Key Insights\n",
    "- Prices mostly range between **45 and 76 USD**, but with large swings.  \n",
    "- The **mean (57)** is higher than the **median (50)** → upward skew due to the strong rally after 2021.  \n",
    "- **High volatility (std ~18)** means the ETF is riskier than stable sectors.  \n",
    "- **Regime shifts** are visible:  \n",
    "  - Crash to ~19 USD in 2020 (COVID).  \n",
    "  - Rally to ~95 USD in 2022–2023 (energy boom, war in Ukraine, oil price spike).  \n",
    "\n",
    "---\n",
    "\n",
    "### 4. Why It Matters\n",
    "- Understanding the **distribution of values** helps when choosing models (e.g., ARIMA vs ML).  \n",
    "- The **volatility and regime changes** show why energy forecasting is hard but useful for hedge funds.  \n",
    "- Always remember: **22 trading days ≈ 1 month** → we think in trading time, not calendar time.\n",
    "\n",
    "---"
   ]
  },
  {
   "cell_type": "markdown",
   "id": "f4cdb64d",
   "metadata": {},
   "source": [
    "## 4) Feature engineering"
   ]
  },
  {
   "cell_type": "code",
   "execution_count": 7,
   "id": "80a165a4",
   "metadata": {},
   "outputs": [],
   "source": [
    "df_feat = add_time_features(df, ts_col=\"Date\")\n",
    "df_feat = make_lags(df_feat, y_col=\"Close\", lags=(1,5,22))\n",
    "df_feat = df_feat.dropna().reset_index(drop=True)\n",
    "\n",
    "train, test = ts_train_test_split(df_feat, test_size=0.2)\n",
    "y_tr, y_te = train[\"Close\"].values, test[\"Close\"].values\n",
    "\n",
    "# Fix for multi-index columns\n",
    "feature_cols = [c for c in df_feat.columns if isinstance(c, tuple) and c[0].startswith(\"lag_\")] + \\\n",
    "\t\t\t   [c for c in df_feat.columns if c[0] in [\"month\", \"dayofweek\", \"year\"]]\n",
    "X_tr, X_te = train[feature_cols], test[feature_cols]\n"
   ]
  },
  {
   "cell_type": "markdown",
   "id": "fa86c862",
   "metadata": {},
   "source": [
    "- Add calendar features (`year`, `month`, `dayofweek`).  \n",
    "- Add lag features (`lag_1`, `lag_5`, `lag_22`).  \n",
    "- Split into **train (80%) / test (20%)** sets.\n",
    "\n",
    "**Why:**  \n",
    "- ML needs features beyond raw prices.  \n",
    "- Lag features = autoregressive signals (like ARIMA internally).  \n",
    "- Chronological split avoids data leakage.\n"
   ]
  },
  {
   "cell_type": "markdown",
   "id": "472a7a76",
   "metadata": {},
   "source": [
    "## 5) Baseline ARIMA"
   ]
  },
  {
   "cell_type": "code",
   "execution_count": null,
   "id": "ee9aaddf",
   "metadata": {},
   "outputs": [],
   "source": [
    "arima = auto_arima(y_tr, seasonal=False, suppress_warnings=True)\n",
    "arima_fc = arima.predict(n_periods=len(test))\n",
    "\n",
    "m_arima = metrics(y_te, arima_fc)\n",
    "print(\"ARIMA metrics:\", m_arima)\n",
    "\n",
    "plt.figure()\n",
    "plt.plot(test[\"Date\"], y_te, label=\"Actual\")\n",
    "plt.plot(test[\"Date\"], arima_fc, label=\"ARIMA\")\n",
    "plt.legend(); plt.title(f\"ARIMA vs Actual — {TICKER}\"); plt.show()\n"
   ]
  },
  {
   "cell_type": "markdown",
   "id": "7f8256b4",
   "metadata": {},
   "source": [
    "- Fit an **ARIMA model** on the training set.  \n",
    "- Forecast over the test horizon.  \n",
    "- Compute metrics and plot predictions vs actuals.  \n",
    "\n",
    "**Why:**  \n",
    "- ARIMA = standard baseline for univariate time series.  \n",
    "- Provides a benchmark to compare against ML/DL models."
   ]
  },
  {
   "cell_type": "markdown",
   "id": "766cfa4d",
   "metadata": {},
   "source": [
    "## 6) Machine Learning with LightGBM"
   ]
  },
  {
   "cell_type": "code",
   "execution_count": null,
   "id": "2d81c31f",
   "metadata": {},
   "outputs": [],
   "source": [
    "lgbm = lgb.LGBMRegressor(\n",
    "    n_estimators=800, learning_rate=0.02,\n",
    "    subsample=0.9, colsample_bytree=0.9,\n",
    "    random_state=42\n",
    ")\n",
    "lgbm.fit(X_tr, y_tr)\n",
    "lgbm_fc = lgbm.predict(X_te)\n",
    "\n",
    "m_lgbm = metrics(y_te, lgbm_fc)\n",
    "print(\"LightGBM metrics:\", m_lgbm)\n",
    "\n",
    "plt.figure()\n",
    "plt.plot(test[\"Date\"], y_te, label=\"Actual\")\n",
    "plt.plot(test[\"Date\"], lgbm_fc, label=\"LightGBM\")\n",
    "plt.legend(); plt.title(f\"LightGBM vs Actual — {TICKER}\"); plt.show()\n"
   ]
  },
  {
   "cell_type": "markdown",
   "id": "a485a460",
   "metadata": {},
   "source": [
    "- Train a **LightGBM regressor** on lag + calendar features.  \n",
    "- Predict test prices.  \n",
    "- Evaluate with MAE, RMSE, MAPE.  \n",
    "\n",
    "**Why:**  \n",
    "- Shows how boosting handles time series with engineered features.  \n",
    "- Often outperforms ARIMA if features capture enough structure."
   ]
  },
  {
   "cell_type": "markdown",
   "id": "ed4addf7",
   "metadata": {},
   "source": [
    "## 7) Compare ARIMA vs LightGBM"
   ]
  },
  {
   "cell_type": "code",
   "execution_count": null,
   "id": "b3e0dd02",
   "metadata": {},
   "outputs": [],
   "source": [
    "plt.figure()\n",
    "plt.plot(test[\"Date\"], y_te, label=\"Actual\")\n",
    "plt.plot(test[\"Date\"], arima_fc, label=\"ARIMA\")\n",
    "plt.plot(test[\"Date\"], lgbm_fc, label=\"LightGBM\")\n",
    "plt.legend(); plt.title(f\"Forecast Comparison — {TICKER}\")\n",
    "plt.show()\n",
    "\n",
    "print(\"ARIMA:\", m_arima)\n",
    "print(\"LightGBM:\", m_lgbm)\n"
   ]
  },
  {
   "cell_type": "markdown",
   "id": "df6a3521",
   "metadata": {},
   "source": [
    "- Plot **Actual vs ARIMA vs LightGBM** on the same graph.  \n",
    "- Print side-by-side metrics.  \n",
    "\n",
    "**Why:**  \n",
    "- Direct visual + quantitative comparison → strengths/weaknesses are clear.  \n",
    "- Hedge funds care about relative performance of models."
   ]
  },
  {
   "cell_type": "markdown",
   "id": "1508f0ab",
   "metadata": {},
   "source": [
    "## 8) Next steps"
   ]
  },
  {
   "cell_type": "markdown",
   "id": "6bb3b1ae",
   "metadata": {},
   "source": [
    "- Add **exogenous variables** (e.g., natural gas `NG=F`, weather).\n",
    "- Implement **walk‑forward** validation (see notebook 02).\n",
    "- Hyperparameter tuning (Optuna/Bayesian search).\n",
    "- Add LSTM comparison (see notebook 03).\n",
    "\n",
    "**Why:**  \n",
    "- Shows roadmap: this is just the MVP.  \n",
    "- Recruiters/reviewers see you know how to extend the project."
   ]
  }
 ],
 "metadata": {
  "kernelspec": {
   "display_name": "electricity",
   "language": "python",
   "name": "python3"
  },
  "language_info": {
   "codemirror_mode": {
    "name": "ipython",
    "version": 3
   },
   "file_extension": ".py",
   "mimetype": "text/x-python",
   "name": "python",
   "nbconvert_exporter": "python",
   "pygments_lexer": "ipython3",
   "version": "3.10.18"
  }
 },
 "nbformat": 4,
 "nbformat_minor": 5
}
